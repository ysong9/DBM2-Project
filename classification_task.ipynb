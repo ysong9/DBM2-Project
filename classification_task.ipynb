{
 "cells": [
  {
   "cell_type": "code",
   "execution_count": 1,
   "metadata": {},
   "outputs": [],
   "source": [
    "import json\n",
    "#importing the opencv module  \n",
    "import cv2  \n",
    "import numpy as np\n",
    "import tensorflow as tf\n",
    "import keras\n",
    "import os\n",
    "from keras.preprocessing import sequence\n",
    "import matplotlib.pyplot as plt \n",
    "import random\n",
    "import pandas as pd"
   ]
  },
  {
   "cell_type": "markdown",
   "metadata": {},
   "source": [
    "Get and save data from JSON files"
   ]
  },
  {
   "cell_type": "code",
   "execution_count": 2,
   "metadata": {},
   "outputs": [
    {
     "data": {
      "text/plain": [
       "'participant_--.json'"
      ]
     },
     "execution_count": 2,
     "metadata": {},
     "output_type": "execute_result"
    }
   ],
   "source": [
    "dirname = 'C:/Users/bodna/OneDrive/Dokumentumok/2021-22_1.felev/data mining_dbm2/data'\n",
    "files = os.listdir(dirname)\n",
    "files[0]"
   ]
  },
  {
   "cell_type": "code",
   "execution_count": 3,
   "metadata": {},
   "outputs": [],
   "source": [
    "data  = []\n",
    "with os.scandir(dirname) as dirs:\n",
    "        for entry in dirs:\n",
    "            p = dirname \n",
    "            p += '/'\n",
    "            p += entry.name\n",
    "            \n",
    "            with open(p, \"r\") as rf:\n",
    "                decoded_data = json.load(rf)\n",
    "                data.append(decoded_data)"
   ]
  },
  {
   "cell_type": "markdown",
   "metadata": {},
   "source": [
    "Get correct feature names"
   ]
  },
  {
   "cell_type": "code",
   "execution_count": 4,
   "metadata": {},
   "outputs": [
    {
     "data": {
      "text/plain": [
       "['likes',\n",
       " 'projects',\n",
       " 'url',\n",
       " 'name',\n",
       " 'followers',\n",
       " 'location',\n",
       " 'bio',\n",
       " 'id',\n",
       " 'linkedin',\n",
       " 'website',\n",
       " 'github',\n",
       " 'hackathons',\n",
       " 'following',\n",
       " 'number-of-skills',\n",
       " 'twitter']"
      ]
     },
     "execution_count": 4,
     "metadata": {},
     "output_type": "execute_result"
    }
   ],
   "source": [
    "data[0].keys()\n",
    "key_list = list(data[0].keys())\n",
    "key_list[12:]\n",
    "\n",
    "columns = []\n",
    "for i in range(len(key_list)):\n",
    "    if (key_list[i] == \"participant-skills\"):\n",
    "            continue\n",
    "    else:\n",
    "        columns.append(key_list[i][12:])\n",
    "columns"
   ]
  },
  {
   "cell_type": "markdown",
   "metadata": {},
   "source": [
    "Check in each JSON object, that the skills are unique"
   ]
  },
  {
   "cell_type": "code",
   "execution_count": 5,
   "metadata": {},
   "outputs": [
    {
     "name": "stdout",
     "output_type": "stream",
     "text": [
      "111 0\n"
     ]
    }
   ],
   "source": [
    "def all_unique(item):\n",
    "    return len(set(item)) == len(item)\n",
    "\n",
    "trues = 0\n",
    "falses = 0\n",
    "for i in range(len(data)):\n",
    "    skills = []\n",
    "    for j in range(len(data[i]['participant-skills'])):\n",
    "        skills.append(data[i]['participant-skills'][0]['name'])\n",
    "    if len(skills) != 0 and len(skills) != 1:\n",
    "        if all_unique(skills) == True:\n",
    "            trues = trues + 1\n",
    "        else:\n",
    "            falses = falses + 1\n",
    "print(falses, trues)"
   ]
  },
  {
   "cell_type": "markdown",
   "metadata": {},
   "source": [
    "Data preparation: change value of lacation feature"
   ]
  },
  {
   "cell_type": "code",
   "execution_count": 6,
   "metadata": {},
   "outputs": [
    {
     "data": {
      "text/plain": [
       "['1',\n",
       " '2',\n",
       " '--',\n",
       " 'Mark Mileyev',\n",
       " '2',\n",
       " 'Santa Cruz',\n",
       " '',\n",
       " '--',\n",
       " '',\n",
       " '',\n",
       " '',\n",
       " '2',\n",
       " '1',\n",
       " '2',\n",
       " '']"
      ]
     },
     "execution_count": 6,
     "metadata": {},
     "output_type": "execute_result"
    }
   ],
   "source": [
    "rows = []\n",
    "for i in range(len(data)):\n",
    "    key_list = list(data[i].keys())\n",
    "    row = []\n",
    "    for j in range(len(key_list)):\n",
    "        if(key_list[j] == \"participant-location\"):\n",
    "            locations = data[i][\"participant-location\"].split(',')\n",
    "        \n",
    "            if len(locations[0]) > 20:\n",
    "                row.append(\"nofollow\")\n",
    "            else:\n",
    "                row.append(locations[0])\n",
    "        elif (key_list[j] == \"participant-skills\"):\n",
    "            continue\n",
    "        elif (key_list[j] == \"participant-url\"):\n",
    "            row.append(data[i][key_list[j]][20:])\n",
    "        else: \n",
    "            row.append(data[i][key_list[j]])\n",
    "    rows.append(row)\n",
    "rows[0]"
   ]
  },
  {
   "cell_type": "code",
   "execution_count": 64,
   "metadata": {},
   "outputs": [
    {
     "data": {
      "text/plain": [
       "likes               0\n",
       "projects            0\n",
       "url                 0\n",
       "name                0\n",
       "followers           0\n",
       "location            0\n",
       "bio                 0\n",
       "id                  0\n",
       "linkedin            0\n",
       "website             0\n",
       "github              0\n",
       "hackathons          0\n",
       "following           0\n",
       "number-of-skills    0\n",
       "twitter             0\n",
       "dtype: int64"
      ]
     },
     "execution_count": 64,
     "metadata": {},
     "output_type": "execute_result"
    }
   ],
   "source": [
    "df = pd.DataFrame(rows, columns = columns)\n",
    "\n",
    "df['likes'] = df['likes'].astype(int)\n",
    "df['projects'] = df['projects'].astype(int)\n",
    "df['followers'] = df['followers'].astype(int)\n",
    "df['hackathons'] = df['hackathons'].astype(int)\n",
    "df['following'] = df['following'].astype(int)\n",
    "df['number-of-skills'] = df['number-of-skills'].astype(int)\n",
    "df\n",
    "\n",
    "#check missing values \n",
    "df.isna().sum()\n",
    "df.isnull().sum()"
   ]
  },
  {
   "cell_type": "code",
   "execution_count": 8,
   "metadata": {},
   "outputs": [
    {
     "data": {
      "text/plain": [
       "<AxesSubplot:>"
      ]
     },
     "execution_count": 8,
     "metadata": {},
     "output_type": "execute_result"
    },
    {
     "data": {
      "image/png": "[encoded data removed]",
      "text/plain": [
       "<Figure size 432x288 with 1 Axes>"
      ]
     },
     "metadata": {
      "needs_background": "light"
     },
     "output_type": "display_data"
    }
   ],
   "source": [
    "df['likes'].value_counts()\n",
    "df['likes'].hist(bins=8)"
   ]
  },
  {
   "cell_type": "code",
   "execution_count": 9,
   "metadata": {},
   "outputs": [
    {
     "data": {
      "text/plain": [
       "(-0.018, 4.5]    148\n",
       "(4.5, 9.0]         7\n",
       "(9.0, 13.5]        2\n",
       "(13.5, 18.0]       3\n",
       "Name: hackathons, dtype: int64"
      ]
     },
     "execution_count": 9,
     "metadata": {},
     "output_type": "execute_result"
    }
   ],
   "source": [
    "df['hackathons'].value_counts()\n",
    "bins = pd.cut(df['hackathons'],4)\n",
    "bins.value_counts(sort=False)"
   ]
  },
  {
   "cell_type": "code",
   "execution_count": 10,
   "metadata": {},
   "outputs": [
    {
     "data": {
      "text/html": [
       "<div>\n",
       "<style scoped>\n",
       "    .dataframe tbody tr th:only-of-type {\n",
       "        vertical-align: middle;\n",
       "    }\n",
       "\n",
       "    .dataframe tbody tr th {\n",
       "        vertical-align: top;\n",
       "    }\n",
       "\n",
       "    .dataframe thead th {\n",
       "        text-align: right;\n",
       "    }\n",
       "</style>\n",
       "<table border=\"1\" class=\"dataframe\">\n",
       "  <thead>\n",
       "    <tr style=\"text-align: right;\">\n",
       "      <th></th>\n",
       "      <th>likes</th>\n",
       "      <th>projects</th>\n",
       "      <th>url</th>\n",
       "      <th>name</th>\n",
       "      <th>followers</th>\n",
       "      <th>location</th>\n",
       "      <th>bio</th>\n",
       "      <th>id</th>\n",
       "      <th>linkedin</th>\n",
       "      <th>website</th>\n",
       "      <th>github</th>\n",
       "      <th>hackathons</th>\n",
       "      <th>following</th>\n",
       "      <th>number-of-skills</th>\n",
       "      <th>twitter</th>\n",
       "    </tr>\n",
       "  </thead>\n",
       "  <tbody>\n",
       "    <tr>\n",
       "      <th>count</th>\n",
       "      <td>160.000000</td>\n",
       "      <td>160.000000</td>\n",
       "      <td>160</td>\n",
       "      <td>160</td>\n",
       "      <td>160.000000</td>\n",
       "      <td>160</td>\n",
       "      <td>160</td>\n",
       "      <td>160</td>\n",
       "      <td>160</td>\n",
       "      <td>160</td>\n",
       "      <td>160</td>\n",
       "      <td>160.000000</td>\n",
       "      <td>160.000000</td>\n",
       "      <td>160.000000</td>\n",
       "      <td>160</td>\n",
       "    </tr>\n",
       "    <tr>\n",
       "      <th>unique</th>\n",
       "      <td>NaN</td>\n",
       "      <td>NaN</td>\n",
       "      <td>159</td>\n",
       "      <td>159</td>\n",
       "      <td>NaN</td>\n",
       "      <td>89</td>\n",
       "      <td>25</td>\n",
       "      <td>159</td>\n",
       "      <td>27</td>\n",
       "      <td>90</td>\n",
       "      <td>85</td>\n",
       "      <td>NaN</td>\n",
       "      <td>NaN</td>\n",
       "      <td>NaN</td>\n",
       "      <td>27</td>\n",
       "    </tr>\n",
       "    <tr>\n",
       "      <th>top</th>\n",
       "      <td>NaN</td>\n",
       "      <td>NaN</td>\n",
       "      <td>0will0</td>\n",
       "      <td>will Martinez</td>\n",
       "      <td>NaN</td>\n",
       "      <td>nofollow</td>\n",
       "      <td></td>\n",
       "      <td>0will0</td>\n",
       "      <td></td>\n",
       "      <td></td>\n",
       "      <td></td>\n",
       "      <td>NaN</td>\n",
       "      <td>NaN</td>\n",
       "      <td>NaN</td>\n",
       "      <td></td>\n",
       "    </tr>\n",
       "    <tr>\n",
       "      <th>freq</th>\n",
       "      <td>NaN</td>\n",
       "      <td>NaN</td>\n",
       "      <td>2</td>\n",
       "      <td>2</td>\n",
       "      <td>NaN</td>\n",
       "      <td>25</td>\n",
       "      <td>136</td>\n",
       "      <td>2</td>\n",
       "      <td>134</td>\n",
       "      <td>70</td>\n",
       "      <td>75</td>\n",
       "      <td>NaN</td>\n",
       "      <td>NaN</td>\n",
       "      <td>NaN</td>\n",
       "      <td>134</td>\n",
       "    </tr>\n",
       "    <tr>\n",
       "      <th>mean</th>\n",
       "      <td>0.875000</td>\n",
       "      <td>1.862500</td>\n",
       "      <td>NaN</td>\n",
       "      <td>NaN</td>\n",
       "      <td>1.312500</td>\n",
       "      <td>NaN</td>\n",
       "      <td>NaN</td>\n",
       "      <td>NaN</td>\n",
       "      <td>NaN</td>\n",
       "      <td>NaN</td>\n",
       "      <td>NaN</td>\n",
       "      <td>1.987500</td>\n",
       "      <td>0.850000</td>\n",
       "      <td>4.756250</td>\n",
       "      <td>NaN</td>\n",
       "    </tr>\n",
       "    <tr>\n",
       "      <th>std</th>\n",
       "      <td>2.343867</td>\n",
       "      <td>1.861519</td>\n",
       "      <td>NaN</td>\n",
       "      <td>NaN</td>\n",
       "      <td>2.754499</td>\n",
       "      <td>NaN</td>\n",
       "      <td>NaN</td>\n",
       "      <td>NaN</td>\n",
       "      <td>NaN</td>\n",
       "      <td>NaN</td>\n",
       "      <td>NaN</td>\n",
       "      <td>2.542686</td>\n",
       "      <td>2.226767</td>\n",
       "      <td>4.327398</td>\n",
       "      <td>NaN</td>\n",
       "    </tr>\n",
       "    <tr>\n",
       "      <th>min</th>\n",
       "      <td>0.000000</td>\n",
       "      <td>1.000000</td>\n",
       "      <td>NaN</td>\n",
       "      <td>NaN</td>\n",
       "      <td>0.000000</td>\n",
       "      <td>NaN</td>\n",
       "      <td>NaN</td>\n",
       "      <td>NaN</td>\n",
       "      <td>NaN</td>\n",
       "      <td>NaN</td>\n",
       "      <td>NaN</td>\n",
       "      <td>0.000000</td>\n",
       "      <td>0.000000</td>\n",
       "      <td>0.000000</td>\n",
       "      <td>NaN</td>\n",
       "    </tr>\n",
       "    <tr>\n",
       "      <th>25%</th>\n",
       "      <td>0.000000</td>\n",
       "      <td>1.000000</td>\n",
       "      <td>NaN</td>\n",
       "      <td>NaN</td>\n",
       "      <td>0.000000</td>\n",
       "      <td>NaN</td>\n",
       "      <td>NaN</td>\n",
       "      <td>NaN</td>\n",
       "      <td>NaN</td>\n",
       "      <td>NaN</td>\n",
       "      <td>NaN</td>\n",
       "      <td>1.000000</td>\n",
       "      <td>0.000000</td>\n",
       "      <td>1.000000</td>\n",
       "      <td>NaN</td>\n",
       "    </tr>\n",
       "    <tr>\n",
       "      <th>50%</th>\n",
       "      <td>0.000000</td>\n",
       "      <td>1.000000</td>\n",
       "      <td>NaN</td>\n",
       "      <td>NaN</td>\n",
       "      <td>0.000000</td>\n",
       "      <td>NaN</td>\n",
       "      <td>NaN</td>\n",
       "      <td>NaN</td>\n",
       "      <td>NaN</td>\n",
       "      <td>NaN</td>\n",
       "      <td>NaN</td>\n",
       "      <td>1.000000</td>\n",
       "      <td>0.000000</td>\n",
       "      <td>4.000000</td>\n",
       "      <td>NaN</td>\n",
       "    </tr>\n",
       "    <tr>\n",
       "      <th>75%</th>\n",
       "      <td>1.000000</td>\n",
       "      <td>2.000000</td>\n",
       "      <td>NaN</td>\n",
       "      <td>NaN</td>\n",
       "      <td>1.000000</td>\n",
       "      <td>NaN</td>\n",
       "      <td>NaN</td>\n",
       "      <td>NaN</td>\n",
       "      <td>NaN</td>\n",
       "      <td>NaN</td>\n",
       "      <td>NaN</td>\n",
       "      <td>2.000000</td>\n",
       "      <td>0.000000</td>\n",
       "      <td>7.250000</td>\n",
       "      <td>NaN</td>\n",
       "    </tr>\n",
       "    <tr>\n",
       "      <th>max</th>\n",
       "      <td>20.000000</td>\n",
       "      <td>13.000000</td>\n",
       "      <td>NaN</td>\n",
       "      <td>NaN</td>\n",
       "      <td>18.000000</td>\n",
       "      <td>NaN</td>\n",
       "      <td>NaN</td>\n",
       "      <td>NaN</td>\n",
       "      <td>NaN</td>\n",
       "      <td>NaN</td>\n",
       "      <td>NaN</td>\n",
       "      <td>18.000000</td>\n",
       "      <td>15.000000</td>\n",
       "      <td>19.000000</td>\n",
       "      <td>NaN</td>\n",
       "    </tr>\n",
       "  </tbody>\n",
       "</table>\n",
       "</div>"
      ],
      "text/plain": [
       "             likes    projects     url           name   followers  location  \\\n",
       "count   160.000000  160.000000     160            160  160.000000       160   \n",
       "unique         NaN         NaN     159            159         NaN        89   \n",
       "top            NaN         NaN  0will0  will Martinez         NaN  nofollow   \n",
       "freq           NaN         NaN       2              2         NaN        25   \n",
       "mean      0.875000    1.862500     NaN            NaN    1.312500       NaN   \n",
       "std       2.343867    1.861519     NaN            NaN    2.754499       NaN   \n",
       "min       0.000000    1.000000     NaN            NaN    0.000000       NaN   \n",
       "25%       0.000000    1.000000     NaN            NaN    0.000000       NaN   \n",
       "50%       0.000000    1.000000     NaN            NaN    0.000000       NaN   \n",
       "75%       1.000000    2.000000     NaN            NaN    1.000000       NaN   \n",
       "max      20.000000   13.000000     NaN            NaN   18.000000       NaN   \n",
       "\n",
       "        bio      id linkedin website github  hackathons   following  \\\n",
       "count   160     160      160     160    160  160.000000  160.000000   \n",
       "unique   25     159       27      90     85         NaN         NaN   \n",
       "top          0will0                                 NaN         NaN   \n",
       "freq    136       2      134      70     75         NaN         NaN   \n",
       "mean    NaN     NaN      NaN     NaN    NaN    1.987500    0.850000   \n",
       "std     NaN     NaN      NaN     NaN    NaN    2.542686    2.226767   \n",
       "min     NaN     NaN      NaN     NaN    NaN    0.000000    0.000000   \n",
       "25%     NaN     NaN      NaN     NaN    NaN    1.000000    0.000000   \n",
       "50%     NaN     NaN      NaN     NaN    NaN    1.000000    0.000000   \n",
       "75%     NaN     NaN      NaN     NaN    NaN    2.000000    0.000000   \n",
       "max     NaN     NaN      NaN     NaN    NaN   18.000000   15.000000   \n",
       "\n",
       "        number-of-skills twitter  \n",
       "count         160.000000     160  \n",
       "unique               NaN      27  \n",
       "top                  NaN          \n",
       "freq                 NaN     134  \n",
       "mean            4.756250     NaN  \n",
       "std             4.327398     NaN  \n",
       "min             0.000000     NaN  \n",
       "25%             1.000000     NaN  \n",
       "50%             4.000000     NaN  \n",
       "75%             7.250000     NaN  \n",
       "max            19.000000     NaN  "
      ]
     },
     "execution_count": 10,
     "metadata": {},
     "output_type": "execute_result"
    }
   ],
   "source": [
    "df.describe(include='all')"
   ]
  },
  {
   "cell_type": "markdown",
   "metadata": {},
   "source": [
    "Get information of dataset"
   ]
  },
  {
   "cell_type": "code",
   "execution_count": 11,
   "metadata": {},
   "outputs": [
    {
     "name": "stdout",
     "output_type": "stream",
     "text": [
      "Number of instances = 160\n",
      "Number of attributes = 15\n"
     ]
    }
   ],
   "source": [
    "print('Number of instances = %d' % (df.shape[0]))\n",
    "print('Number of attributes = %d' % (df.shape[1]))"
   ]
  },
  {
   "cell_type": "markdown",
   "metadata": {},
   "source": [
    "In the dataset there is one duplicated rows, wihch means each row in the dataset is unique/different from each other. "
   ]
  },
  {
   "cell_type": "code",
   "execution_count": 12,
   "metadata": {},
   "outputs": [
    {
     "name": "stdout",
     "output_type": "stream",
     "text": [
      "Number of duplicate rows = 1\n"
     ]
    },
    {
     "data": {
      "text/plain": [
       "likes                                       0\n",
       "projects                                    1\n",
       "url                                    0will0\n",
       "name                            will Martinez\n",
       "followers                                   0\n",
       "location                             nofollow\n",
       "bio                                          \n",
       "id                                     0will0\n",
       "linkedin                                     \n",
       "website             https://github.com/0will0\n",
       "github              https://github.com/0will0\n",
       "hackathons                                  1\n",
       "following                                   0\n",
       "number-of-skills                            6\n",
       "twitter                                      \n",
       "Name: 44, dtype: object"
      ]
     },
     "execution_count": 12,
     "metadata": {},
     "output_type": "execute_result"
    }
   ],
   "source": [
    "dups = df.duplicated()\n",
    "print('Number of duplicate rows = %d' % (dups.sum()))\n",
    "\n",
    "index = np.where(dups == True)\n",
    "df.iloc[index[0][0]]"
   ]
  },
  {
   "cell_type": "code",
   "execution_count": 13,
   "metadata": {},
   "outputs": [
    {
     "data": {
      "text/plain": [
       "<AxesSubplot:>"
      ]
     },
     "execution_count": 13,
     "metadata": {},
     "output_type": "execute_result"
    },
    {
     "data": {
      "image/png": "[encoded data removed]",
      "text/plain": [
       "<Figure size 1080x432 with 1 Axes>"
      ]
     },
     "metadata": {
      "needs_background": "light"
     },
     "output_type": "display_data"
    }
   ],
   "source": [
    "data = df[['likes', 'projects', 'followers','number-of-skills', 'hackathons']]\n",
    "data.boxplot(figsize=(15,6))"
   ]
  },
  {
   "cell_type": "code",
   "execution_count": 15,
   "metadata": {},
   "outputs": [
    {
     "data": {
      "image/png": "[encoded data removed]",
      "text/plain": [
       "<Figure size 432x288 with 2 Axes>"
      ]
     },
     "metadata": {
      "needs_background": "light"
     },
     "output_type": "display_data"
    }
   ],
   "source": [
    "import seaborn as sns\n",
    "plt.figsize=(15,6)\n",
    "cov = df.cov()\n",
    "\n",
    "sns.heatmap(cov, annot=True) #, fmt='g') #, xticklabels=labs, yticklabels=labs)\n",
    "plt.show()"
   ]
  },
  {
   "cell_type": "code",
   "execution_count": 80,
   "metadata": {},
   "outputs": [
    {
     "data": {
      "image/png": "[encoded data removed]",
      "text/plain": [
       "<Figure size 432x288 with 2 Axes>"
      ]
     },
     "metadata": {
      "needs_background": "light"
     },
     "output_type": "display_data"
    }
   ],
   "source": [
    "import seaborn as sns\n",
    "corr = df.corr()\n",
    "\n",
    "sns.heatmap(corr, annot=True) #, fmt='g') #, xticklabels=labs, yticklabels=labs)\n",
    "plt.show()"
   ]
  },
  {
   "cell_type": "markdown",
   "metadata": {},
   "source": [
    "Leave features which are not important or relevant to the independent variable"
   ]
  },
  {
   "cell_type": "code",
   "execution_count": 68,
   "metadata": {},
   "outputs": [
    {
     "data": {
      "text/html": [
       "<div>\n",
       "<style scoped>\n",
       "    .dataframe tbody tr th:only-of-type {\n",
       "        vertical-align: middle;\n",
       "    }\n",
       "\n",
       "    .dataframe tbody tr th {\n",
       "        vertical-align: top;\n",
       "    }\n",
       "\n",
       "    .dataframe thead th {\n",
       "        text-align: right;\n",
       "    }\n",
       "</style>\n",
       "<table border=\"1\" class=\"dataframe\">\n",
       "  <thead>\n",
       "    <tr style=\"text-align: right;\">\n",
       "      <th></th>\n",
       "      <th>likes</th>\n",
       "      <th>projects</th>\n",
       "      <th>followers</th>\n",
       "      <th>location</th>\n",
       "      <th>hackathons</th>\n",
       "      <th>following</th>\n",
       "      <th>number-of-skills</th>\n",
       "      <th>isWinner</th>\n",
       "    </tr>\n",
       "  </thead>\n",
       "  <tbody>\n",
       "    <tr>\n",
       "      <th>0</th>\n",
       "      <td>15</td>\n",
       "      <td>5</td>\n",
       "      <td>5</td>\n",
       "      <td>nofollow</td>\n",
       "      <td>4</td>\n",
       "      <td>14</td>\n",
       "      <td>13</td>\n",
       "      <td>1</td>\n",
       "    </tr>\n",
       "    <tr>\n",
       "      <th>1</th>\n",
       "      <td>0</td>\n",
       "      <td>1</td>\n",
       "      <td>0</td>\n",
       "      <td>USA</td>\n",
       "      <td>1</td>\n",
       "      <td>0</td>\n",
       "      <td>6</td>\n",
       "      <td>1</td>\n",
       "    </tr>\n",
       "    <tr>\n",
       "      <th>2</th>\n",
       "      <td>0</td>\n",
       "      <td>2</td>\n",
       "      <td>0</td>\n",
       "      <td>USA</td>\n",
       "      <td>0</td>\n",
       "      <td>0</td>\n",
       "      <td>5</td>\n",
       "      <td>1</td>\n",
       "    </tr>\n",
       "    <tr>\n",
       "      <th>3</th>\n",
       "      <td>5</td>\n",
       "      <td>3</td>\n",
       "      <td>6</td>\n",
       "      <td>USA</td>\n",
       "      <td>5</td>\n",
       "      <td>7</td>\n",
       "      <td>5</td>\n",
       "      <td>1</td>\n",
       "    </tr>\n",
       "    <tr>\n",
       "      <th>4</th>\n",
       "      <td>0</td>\n",
       "      <td>1</td>\n",
       "      <td>2</td>\n",
       "      <td>Mexiko</td>\n",
       "      <td>2</td>\n",
       "      <td>0</td>\n",
       "      <td>10</td>\n",
       "      <td>1</td>\n",
       "    </tr>\n",
       "    <tr>\n",
       "      <th>...</th>\n",
       "      <td>...</td>\n",
       "      <td>...</td>\n",
       "      <td>...</td>\n",
       "      <td>...</td>\n",
       "      <td>...</td>\n",
       "      <td>...</td>\n",
       "      <td>...</td>\n",
       "      <td>...</td>\n",
       "    </tr>\n",
       "    <tr>\n",
       "      <th>155</th>\n",
       "      <td>0</td>\n",
       "      <td>3</td>\n",
       "      <td>2</td>\n",
       "      <td>USA</td>\n",
       "      <td>3</td>\n",
       "      <td>0</td>\n",
       "      <td>2</td>\n",
       "      <td>0</td>\n",
       "    </tr>\n",
       "    <tr>\n",
       "      <th>156</th>\n",
       "      <td>0</td>\n",
       "      <td>2</td>\n",
       "      <td>3</td>\n",
       "      <td>USA</td>\n",
       "      <td>2</td>\n",
       "      <td>0</td>\n",
       "      <td>4</td>\n",
       "      <td>0</td>\n",
       "    </tr>\n",
       "    <tr>\n",
       "      <th>157</th>\n",
       "      <td>1</td>\n",
       "      <td>1</td>\n",
       "      <td>1</td>\n",
       "      <td>Mexiko</td>\n",
       "      <td>1</td>\n",
       "      <td>0</td>\n",
       "      <td>3</td>\n",
       "      <td>0</td>\n",
       "    </tr>\n",
       "    <tr>\n",
       "      <th>158</th>\n",
       "      <td>0</td>\n",
       "      <td>1</td>\n",
       "      <td>0</td>\n",
       "      <td>nofollow</td>\n",
       "      <td>1</td>\n",
       "      <td>0</td>\n",
       "      <td>0</td>\n",
       "      <td>0</td>\n",
       "    </tr>\n",
       "    <tr>\n",
       "      <th>159</th>\n",
       "      <td>1</td>\n",
       "      <td>1</td>\n",
       "      <td>3</td>\n",
       "      <td>EU</td>\n",
       "      <td>1</td>\n",
       "      <td>1</td>\n",
       "      <td>0</td>\n",
       "      <td>0</td>\n",
       "    </tr>\n",
       "  </tbody>\n",
       "</table>\n",
       "<p>160 rows × 8 columns</p>\n",
       "</div>"
      ],
      "text/plain": [
       "     likes  projects  followers  location  hackathons  following  \\\n",
       "0       15         5          5  nofollow           4         14   \n",
       "1        0         1          0       USA           1          0   \n",
       "2        0         2          0       USA           0          0   \n",
       "3        5         3          6       USA           5          7   \n",
       "4        0         1          2    Mexiko           2          0   \n",
       "..     ...       ...        ...       ...         ...        ...   \n",
       "155      0         3          2       USA           3          0   \n",
       "156      0         2          3       USA           2          0   \n",
       "157      1         1          1    Mexiko           1          0   \n",
       "158      0         1          0  nofollow           1          0   \n",
       "159      1         1          3        EU           1          1   \n",
       "\n",
       "     number-of-skills  isWinner  \n",
       "0                  13         1  \n",
       "1                   6         1  \n",
       "2                   5         1  \n",
       "3                   5         1  \n",
       "4                  10         1  \n",
       "..                ...       ...  \n",
       "155                 2         0  \n",
       "156                 4         0  \n",
       "157                 3         0  \n",
       "158                 0         0  \n",
       "159                 0         0  \n",
       "\n",
       "[160 rows x 8 columns]"
      ]
     },
     "execution_count": 68,
     "metadata": {},
     "output_type": "execute_result"
    }
   ],
   "source": [
    "df = df.drop(['linkedin', 'website', 'id', 'github','twitter', 'name', 'url', 'bio'], axis=1)\n",
    "df"
   ]
  },
  {
   "cell_type": "code",
   "execution_count": 65,
   "metadata": {},
   "outputs": [
    {
     "data": {
      "text/plain": [
       "array(['nofollow', 'USA', 'Mexiko', 'EU', 'Canada', 'UK'], dtype=object)"
      ]
     },
     "execution_count": 65,
     "metadata": {},
     "output_type": "execute_result"
    }
   ],
   "source": [
    "#if the participant has 5 or more skills, he/she will be the winner\n",
    "winners = df.loc[df['number-of-skills']>=5].copy()\n",
    "winners['isWinner'] = 1 \n",
    "\n",
    "#if the participant has less then 5 skills, he/she won't win\n",
    "non-winners = df.loc[df['number-of-skills']<5].copy()\n",
    "non-winners['isWinner'] = 0\n",
    "\n",
    "data = winners.append(non-winners)\n",
    "data = data.reset_index(drop=True)\n",
    "df = data\n",
    "df.location.unique()\n",
    "\n",
    "#Use bigger areas instead of cities\n",
    "usa = ['Boston', 'San Francisco', 'Washington','St. Louis','San Diego', 'Los Angeles', 'Troy', 'Phoenix', 'Oklahoma City', 'San Antonio', 'Seattle',\n",
    "        'Pittsburgh', 'Amherst','Houston', 'Fairfax', 'Webster', 'New York','Orlando','Claremont', 'Austin', 'Philadelphia', 'California','Fullerton', 'United States','Richmond', 'Chicago', 'Minneapolis', 'Nashville']\n",
    "\n",
    "uk = ['London', 'Edinburgh', 'Manchester', 'Cambridge', 'west Chester', 'Rochester', 'Kingston']\n",
    "\n",
    "europe = ['Germany', 'Karlsruhe','Warsaw', 'Stockholm', 'Munich', 'Tallinn', 'Moscow', 'Latvia','Linz', 'Budapest', 'Waterloo', 'Berlin', 'Hanover']\n",
    "\n",
    "canada = ['Ottawa', 'Toronto', 'Montreal']\n",
    "\n",
    "places = []\n",
    "for i in range(len(df.location)):\n",
    "    #print(df.location[i])\n",
    "    if df.location[i] in usa:\n",
    "        places.append('USA')\n",
    "    elif df.location[i] in uk:\n",
    "        places.append('UK')\n",
    "    elif df.location[i] in europe:\n",
    "        places.append('EU')\n",
    "    elif df.location[i] in canada:\n",
    "        places.append('Canada')\n",
    "    elif df.location[i] == \"nofollow\":\n",
    "        places.append('nofollow')\n",
    "    else:\n",
    "        places.append('Mexiko')\n",
    "        \n",
    "df['location'] = places\n",
    "df.location.unique()"
   ]
  },
  {
   "cell_type": "code",
   "execution_count": 85,
   "metadata": {},
   "outputs": [],
   "source": [
    "y = pd.get_dummies(df.location, prefix='location')\n",
    "y\n",
    "df.insert(loc=1, column='location_nofollow', value=y['location_nofollow'])\n",
    "df.insert(loc=2, column='location_EU', value=y['location_EU'])\n",
    "df.insert(loc=3, column='location_Mexiko', value=y['location_Mexiko'])\n",
    "df.insert(loc=4, column='location_UK', value=y['location_UK'])\n",
    "df.insert(loc=5, column='location_USA', value=y['location_USA'])\n",
    "df = df.drop(['location'], axis=1)"
   ]
  },
  {
   "cell_type": "markdown",
   "metadata": {},
   "source": [
    "Get dependent and independent variables"
   ]
  },
  {
   "cell_type": "code",
   "execution_count": 97,
   "metadata": {},
   "outputs": [],
   "source": [
    "Y = df['isWinner']\n",
    "X = df.drop(['isWinner'], axis=1)"
   ]
  },
  {
   "cell_type": "code",
   "execution_count": 140,
   "metadata": {},
   "outputs": [],
   "source": [
    "# Sklearn regression model evaluation functions\n",
    "from sklearn.metrics import mean_absolute_error\n",
    "from sklearn.metrics import mean_squared_error\n",
    "from sklearn.metrics import explained_variance_score\n",
    "from sklearn.metrics import max_error\n",
    "from math import sqrt\n",
    "from sklearn.metrics import r2_score\n",
    "import statistics\n",
    "\n",
    "def modelEffectivenessCheck(model):\n",
    "    sum = 0\n",
    "    k = 0\n",
    "    classifier = model\n",
    "    classifier.fit(X_train, Y_train)\n",
    "    y_pred = classifier.predict(X_test)\n",
    "    print(\"Effectiveness of the Random Forest Classifier\")\n",
    "    print(\"MAE\", mean_absolute_error(Y_test, y_pred))\n",
    "    print(\"RMSE\", sqrt(mean_squared_error(Y_test, y_pred)))\n",
    "    print(\"R2\", r2_score(Y_test, y_pred))\n",
    "    return y_pred, Y_test"
   ]
  },
  {
   "cell_type": "markdown",
   "metadata": {},
   "source": [
    "Split data into train and test set"
   ]
  },
  {
   "cell_type": "code",
   "execution_count": 99,
   "metadata": {},
   "outputs": [],
   "source": [
    "from sklearn.model_selection import train_test_split\n",
    "X_train, X_test, Y_train, Y_test = train_test_split(X, Y, test_size=0.8, random_state=1)\n",
    "\n",
    "from sklearn import tree\n",
    "from sklearn.metrics import accuracy_score"
   ]
  },
  {
   "cell_type": "markdown",
   "metadata": {},
   "source": [
    "Standardize train and test set"
   ]
  },
  {
   "cell_type": "code",
   "execution_count": 101,
   "metadata": {},
   "outputs": [],
   "source": [
    "from sklearn.preprocessing import StandardScaler\n",
    "scaler = StandardScaler()\n",
    "X_train = scaler.fit_transform(X_train)\n",
    "X_test = scaler.transform(X_test)"
   ]
  },
  {
   "cell_type": "markdown",
   "metadata": {},
   "source": [
    "Working with GridSearch to find hyperparameters for RandomForest"
   ]
  },
  {
   "cell_type": "code",
   "execution_count": 143,
   "metadata": {},
   "outputs": [
    {
     "name": "stdout",
     "output_type": "stream",
     "text": [
      "Fitting 3 folds for each of 48 candidates, totalling 144 fits\n",
      "[CV] max_depth=2, n_estimators=3, random_state=15 ....................\n",
      "[CV]  max_depth=2, n_estimators=3, random_state=15, score=0.545, total=   0.0s\n",
      "[CV] max_depth=2, n_estimators=3, random_state=15 ....................\n",
      "[CV]  max_depth=2, n_estimators=3, random_state=15, score=0.273, total=   0.0s\n",
      "[CV] max_depth=2, n_estimators=3, random_state=15 ....................\n",
      "[CV]  max_depth=2, n_estimators=3, random_state=15, score=0.500, total=   0.0s\n",
      "[CV] max_depth=2, n_estimators=3, random_state=30 ....................\n",
      "[CV]  max_depth=2, n_estimators=3, random_state=30, score=0.455, total=   0.0s\n",
      "[CV] max_depth=2, n_estimators=3, random_state=30 ....................\n",
      "[CV]  max_depth=2, n_estimators=3, random_state=30, score=0.727, total=   0.0s\n",
      "[CV] max_depth=2, n_estimators=3, random_state=30 ....................\n",
      "[CV]  max_depth=2, n_estimators=3, random_state=30, score=0.900, total=   0.0s\n",
      "[CV] max_depth=2, n_estimators=5, random_state=15 ....................\n",
      "[CV]  max_depth=2, n_estimators=5, random_state=15, score=0.545, total=   0.0s\n",
      "[CV] max_depth=2, n_estimators=5, random_state=15 ....................\n",
      "[CV]  max_depth=2, n_estimators=5, random_state=15, score=0.455, total=   0.0s\n",
      "[CV] max_depth=2, n_estimators=5, random_state=15 ....................\n",
      "[CV]  max_depth=2, n_estimators=5, random_state=15, score=0.900, total=   0.0s\n",
      "[CV] max_depth=2, n_estimators=5, random_state=30 ....................\n",
      "[CV]  max_depth=2, n_estimators=5, random_state=30, score=0.455, total=   0.0s\n",
      "[CV] max_depth=2, n_estimators=5, random_state=30 ....................\n",
      "[CV]  max_depth=2, n_estimators=5, random_state=30, score=0.727, total=   0.0s\n",
      "[CV] max_depth=2, n_estimators=5, random_state=30 ....................\n",
      "[CV]  max_depth=2, n_estimators=5, random_state=30, score=1.000, total=   0.0s\n",
      "[CV] max_depth=2, n_estimators=10, random_state=15 ...................\n",
      "[CV]  max_depth=2, n_estimators=10, random_state=15, score=0.636, total=   0.0s\n",
      "[CV] max_depth=2, n_estimators=10, random_state=15 ...................\n",
      "[CV]  max_depth=2, n_estimators=10, random_state=15, score=0.545, total=   0.0s\n",
      "[CV] max_depth=2, n_estimators=10, random_state=15 ...................\n",
      "[CV]  max_depth=2, n_estimators=10, random_state=15, score=0.900, total=   0.0s\n",
      "[CV] max_depth=2, n_estimators=10, random_state=30 ...................\n",
      "[CV]  max_depth=2, n_estimators=10, random_state=30, score=0.818, total=   0.0s\n",
      "[CV] max_depth=2, n_estimators=10, random_state=30 ...................\n",
      "[CV]  max_depth=2, n_estimators=10, random_state=30, score=0.909, total=   0.0s\n",
      "[CV] max_depth=2, n_estimators=10, random_state=30 ...................\n",
      "[CV]  max_depth=2, n_estimators=10, random_state=30, score=1.000, total=   0.0s"
     ]
    },
    {
     "name": "stderr",
     "output_type": "stream",
     "text": [
      "[Parallel(n_jobs=1)]: Using backend SequentialBackend with 1 concurrent workers.\n",
      "[Parallel(n_jobs=1)]: Done   1 out of   1 | elapsed:    0.0s remaining:    0.0s\n",
      "[Parallel(n_jobs=1)]: Done   2 out of   2 | elapsed:    0.0s remaining:    0.0s\n"
     ]
    },
    {
     "name": "stdout",
     "output_type": "stream",
     "text": [
      "\n",
      "[CV] max_depth=2, n_estimators=15, random_state=15 ...................\n",
      "[CV]  max_depth=2, n_estimators=15, random_state=15, score=0.455, total=   0.0s\n",
      "[CV] max_depth=2, n_estimators=15, random_state=15 ...................\n",
      "[CV]  max_depth=2, n_estimators=15, random_state=15, score=0.636, total=   0.0s\n",
      "[CV] max_depth=2, n_estimators=15, random_state=15 ...................\n",
      "[CV]  max_depth=2, n_estimators=15, random_state=15, score=0.800, total=   0.0s\n",
      "[CV] max_depth=2, n_estimators=15, random_state=30 ...................\n",
      "[CV]  max_depth=2, n_estimators=15, random_state=30, score=0.636, total=   0.0s\n",
      "[CV] max_depth=2, n_estimators=15, random_state=30 ...................\n",
      "[CV]  max_depth=2, n_estimators=15, random_state=30, score=0.818, total=   0.0s\n",
      "[CV] max_depth=2, n_estimators=15, random_state=30 ...................\n",
      "[CV]  max_depth=2, n_estimators=15, random_state=30, score=0.800, total=   0.0s\n",
      "[CV] max_depth=4, n_estimators=3, random_state=15 ....................\n",
      "[CV]  max_depth=4, n_estimators=3, random_state=15, score=0.818, total=   0.0s\n",
      "[CV] max_depth=4, n_estimators=3, random_state=15 ....................\n",
      "[CV]  max_depth=4, n_estimators=3, random_state=15, score=0.364, total=   0.0s\n",
      "[CV] max_depth=4, n_estimators=3, random_state=15 ....................\n",
      "[CV]  max_depth=4, n_estimators=3, random_state=15, score=0.300, total=   0.0s\n",
      "[CV] max_depth=4, n_estimators=3, random_state=30 ....................\n",
      "[CV]  max_depth=4, n_estimators=3, random_state=30, score=0.636, total=   0.0s\n",
      "[CV] max_depth=4, n_estimators=3, random_state=30 ....................\n",
      "[CV]  max_depth=4, n_estimators=3, random_state=30, score=0.727, total=   0.0s\n",
      "[CV] max_depth=4, n_estimators=3, random_state=30 ....................\n",
      "[CV]  max_depth=4, n_estimators=3, random_state=30, score=0.800, total=   0.0s\n",
      "[CV] max_depth=4, n_estimators=5, random_state=15 ....................\n",
      "[CV]  max_depth=4, n_estimators=5, random_state=15, score=0.818, total=   0.0s\n",
      "[CV] max_depth=4, n_estimators=5, random_state=15 ....................\n",
      "[CV]  max_depth=4, n_estimators=5, random_state=15, score=0.455, total=   0.0s\n",
      "[CV] max_depth=4, n_estimators=5, random_state=15 ....................\n",
      "[CV]  max_depth=4, n_estimators=5, random_state=15, score=0.300, total=   0.0s\n",
      "[CV] max_depth=4, n_estimators=5, random_state=30 ....................\n",
      "[CV]  max_depth=4, n_estimators=5, random_state=30, score=0.636, total=   0.0s\n",
      "[CV] max_depth=4, n_estimators=5, random_state=30 ....................\n",
      "[CV]  max_depth=4, n_estimators=5, random_state=30, score=0.636, total=   0.0s\n",
      "[CV] max_depth=4, n_estimators=5, random_state=30 ....................\n",
      "[CV]  max_depth=4, n_estimators=5, random_state=30, score=1.000, total=   0.0s\n",
      "[CV] max_depth=4, n_estimators=10, random_state=15 ...................\n",
      "[CV]  max_depth=4, n_estimators=10, random_state=15, score=0.818, total=   0.0s\n",
      "[CV] max_depth=4, n_estimators=10, random_state=15 ...................\n",
      "[CV]  max_depth=4, n_estimators=10, random_state=15, score=0.545, total=   0.0s\n",
      "[CV] max_depth=4, n_estimators=10, random_state=15 ...................\n",
      "[CV]  max_depth=4, n_estimators=10, random_state=15, score=0.800, total=   0.0s\n",
      "[CV] max_depth=4, n_estimators=10, random_state=30 ...................\n",
      "[CV]  max_depth=4, n_estimators=10, random_state=30, score=0.818, total=   0.0s\n",
      "[CV] max_depth=4, n_estimators=10, random_state=30 ...................\n",
      "[CV]  max_depth=4, n_estimators=10, random_state=30, score=0.909, total=   0.0s\n",
      "[CV] max_depth=4, n_estimators=10, random_state=30 ...................\n",
      "[CV]  max_depth=4, n_estimators=10, random_state=30, score=1.000, total=   0.0s\n",
      "[CV] max_depth=4, n_estimators=15, random_state=15 ...................\n",
      "[CV]  max_depth=4, n_estimators=15, random_state=15, score=0.545, total=   0.0s\n",
      "[CV] max_depth=4, n_estimators=15, random_state=15 ...................\n",
      "[CV]  max_depth=4, n_estimators=15, random_state=15, score=0.818, total=   0.0s\n",
      "[CV] max_depth=4, n_estimators=15, random_state=15 ...................\n",
      "[CV]  max_depth=4, n_estimators=15, random_state=15, score=0.700, total=   0.0s\n",
      "[CV] max_depth=4, n_estimators=15, random_state=30 ...................\n",
      "[CV]  max_depth=4, n_estimators=15, random_state=30, score=0.909, total=   0.0s\n",
      "[CV] max_depth=4, n_estimators=15, random_state=30 ...................\n",
      "[CV]  max_depth=4, n_estimators=15, random_state=30, score=0.818, total=   0.0s\n",
      "[CV] max_depth=4, n_estimators=15, random_state=30 ...................\n",
      "[CV]  max_depth=4, n_estimators=15, random_state=30, score=0.900, total=   0.0s\n",
      "[CV] max_depth=7, n_estimators=3, random_state=15 ....................\n",
      "[CV]  max_depth=7, n_estimators=3, random_state=15, score=0.727, total=   0.0s\n",
      "[CV] max_depth=7, n_estimators=3, random_state=15 ....................\n",
      "[CV]  max_depth=7, n_estimators=3, random_state=15, score=0.364, total=   0.0s\n",
      "[CV] max_depth=7, n_estimators=3, random_state=15 ....................\n",
      "[CV]  max_depth=7, n_estimators=3, random_state=15, score=0.500, total=   0.0s\n",
      "[CV] max_depth=7, n_estimators=3, random_state=30 ....................\n",
      "[CV]  max_depth=7, n_estimators=3, random_state=30, score=0.455, total=   0.0s\n",
      "[CV] max_depth=7, n_estimators=3, random_state=30 ....................\n",
      "[CV]  max_depth=7, n_estimators=3, random_state=30, score=0.545, total=   0.0s\n",
      "[CV] max_depth=7, n_estimators=3, random_state=30 ....................\n",
      "[CV]  max_depth=7, n_estimators=3, random_state=30, score=0.900, total=   0.0s\n",
      "[CV] max_depth=7, n_estimators=5, random_state=15 ....................\n",
      "[CV]  max_depth=7, n_estimators=5, random_state=15, score=0.818, total=   0.0s\n",
      "[CV] max_depth=7, n_estimators=5, random_state=15 ....................\n",
      "[CV]  max_depth=7, n_estimators=5, random_state=15, score=0.455, total=   0.0s\n",
      "[CV] max_depth=7, n_estimators=5, random_state=15 ....................\n",
      "[CV]  max_depth=7, n_estimators=5, random_state=15, score=0.600, total=   0.0s\n",
      "[CV] max_depth=7, n_estimators=5, random_state=30 ....................\n",
      "[CV]  max_depth=7, n_estimators=5, random_state=30, score=0.545, total=   0.0s\n",
      "[CV] max_depth=7, n_estimators=5, random_state=30 ....................\n",
      "[CV]  max_depth=7, n_estimators=5, random_state=30, score=0.636, total=   0.0s\n",
      "[CV] max_depth=7, n_estimators=5, random_state=30 ....................\n",
      "[CV]  max_depth=7, n_estimators=5, random_state=30, score=1.000, total=   0.0s\n",
      "[CV] max_depth=7, n_estimators=10, random_state=15 ...................\n",
      "[CV]  max_depth=7, n_estimators=10, random_state=15, score=0.909, total=   0.0s\n",
      "[CV] max_depth=7, n_estimators=10, random_state=15 ...................\n",
      "[CV]  max_depth=7, n_estimators=10, random_state=15, score=0.636, total=   0.0s\n",
      "[CV] max_depth=7, n_estimators=10, random_state=15 ...................\n",
      "[CV]  max_depth=7, n_estimators=10, random_state=15, score=0.900, total=   0.0s\n",
      "[CV] max_depth=7, n_estimators=10, random_state=30 ...................\n",
      "[CV]  max_depth=7, n_estimators=10, random_state=30, score=0.818, total=   0.0s\n",
      "[CV] max_depth=7, n_estimators=10, random_state=30 ...................\n",
      "[CV]  max_depth=7, n_estimators=10, random_state=30, score=1.000, total=   0.0s\n",
      "[CV] max_depth=7, n_estimators=10, random_state=30 ...................\n",
      "[CV]  max_depth=7, n_estimators=10, random_state=30, score=1.000, total=   0.0s\n",
      "[CV] max_depth=7, n_estimators=15, random_state=15 ...................\n",
      "[CV]  max_depth=7, n_estimators=15, random_state=15, score=0.545, total=   0.0s\n",
      "[CV] max_depth=7, n_estimators=15, random_state=15 ...................\n",
      "[CV]  max_depth=7, n_estimators=15, random_state=15, score=0.727, total=   0.0s\n",
      "[CV] max_depth=7, n_estimators=15, random_state=15 ...................\n",
      "[CV]  max_depth=7, n_estimators=15, random_state=15, score=0.800, total=   0.0s\n",
      "[CV] max_depth=7, n_estimators=15, random_state=30 ...................\n",
      "[CV]  max_depth=7, n_estimators=15, random_state=30, score=0.818, total=   0.0s\n",
      "[CV] max_depth=7, n_estimators=15, random_state=30 ...................\n",
      "[CV]  max_depth=7, n_estimators=15, random_state=30, score=0.818, total=   0.0s\n",
      "[CV] max_depth=7, n_estimators=15, random_state=30 ...................\n",
      "[CV]  max_depth=7, n_estimators=15, random_state=30, score=1.000, total=   0.0s\n",
      "[CV] max_depth=8, n_estimators=3, random_state=15 ....................\n",
      "[CV]  max_depth=8, n_estimators=3, random_state=15, score=0.727, total=   0.0s\n",
      "[CV] max_depth=8, n_estimators=3, random_state=15 ....................\n",
      "[CV]  max_depth=8, n_estimators=3, random_state=15, score=0.364, total=   0.0s\n",
      "[CV] max_depth=8, n_estimators=3, random_state=15 ....................\n",
      "[CV]  max_depth=8, n_estimators=3, random_state=15, score=0.500, total=   0.0s\n",
      "[CV] max_depth=8, n_estimators=3, random_state=30 ....................\n",
      "[CV]  max_depth=8, n_estimators=3, random_state=30, score=0.455, total=   0.0s\n",
      "[CV] max_depth=8, n_estimators=3, random_state=30 ....................\n",
      "[CV]  max_depth=8, n_estimators=3, random_state=30, score=0.545, total=   0.0s\n",
      "[CV] max_depth=8, n_estimators=3, random_state=30 ....................\n",
      "[CV]  max_depth=8, n_estimators=3, random_state=30, score=0.900, total=   0.0s\n",
      "[CV] max_depth=8, n_estimators=5, random_state=15 ....................\n",
      "[CV]  max_depth=8, n_estimators=5, random_state=15, score=0.818, total=   0.0s\n",
      "[CV] max_depth=8, n_estimators=5, random_state=15 ....................\n",
      "[CV]  max_depth=8, n_estimators=5, random_state=15, score=0.455, total=   0.0s\n",
      "[CV] max_depth=8, n_estimators=5, random_state=15 ....................\n",
      "[CV]  max_depth=8, n_estimators=5, random_state=15, score=0.600, total=   0.0s\n",
      "[CV] max_depth=8, n_estimators=5, random_state=30 ....................\n",
      "[CV]  max_depth=8, n_estimators=5, random_state=30, score=0.545, total=   0.0s\n",
      "[CV] max_depth=8, n_estimators=5, random_state=30 ....................\n",
      "[CV]  max_depth=8, n_estimators=5, random_state=30, score=0.636, total=   0.0s\n",
      "[CV] max_depth=8, n_estimators=5, random_state=30 ....................\n",
      "[CV]  max_depth=8, n_estimators=5, random_state=30, score=1.000, total=   0.0s\n",
      "[CV] max_depth=8, n_estimators=10, random_state=15 ...................\n"
     ]
    },
    {
     "name": "stdout",
     "output_type": "stream",
     "text": [
      "[CV]  max_depth=8, n_estimators=10, random_state=15, score=0.909, total=   0.0s\n",
      "[CV] max_depth=8, n_estimators=10, random_state=15 ...................\n",
      "[CV]  max_depth=8, n_estimators=10, random_state=15, score=0.636, total=   0.0s\n",
      "[CV] max_depth=8, n_estimators=10, random_state=15 ...................\n",
      "[CV]  max_depth=8, n_estimators=10, random_state=15, score=0.900, total=   0.0s\n",
      "[CV] max_depth=8, n_estimators=10, random_state=30 ...................\n",
      "[CV]  max_depth=8, n_estimators=10, random_state=30, score=0.818, total=   0.0s\n",
      "[CV] max_depth=8, n_estimators=10, random_state=30 ...................\n",
      "[CV]  max_depth=8, n_estimators=10, random_state=30, score=1.000, total=   0.0s\n",
      "[CV] max_depth=8, n_estimators=10, random_state=30 ...................\n",
      "[CV]  max_depth=8, n_estimators=10, random_state=30, score=1.000, total=   0.0s\n",
      "[CV] max_depth=8, n_estimators=15, random_state=15 ...................\n",
      "[CV]  max_depth=8, n_estimators=15, random_state=15, score=0.545, total=   0.0s\n",
      "[CV] max_depth=8, n_estimators=15, random_state=15 ...................\n",
      "[CV]  max_depth=8, n_estimators=15, random_state=15, score=0.727, total=   0.0s\n",
      "[CV] max_depth=8, n_estimators=15, random_state=15 ...................\n",
      "[CV]  max_depth=8, n_estimators=15, random_state=15, score=0.800, total=   0.0s\n",
      "[CV] max_depth=8, n_estimators=15, random_state=30 ...................\n",
      "[CV]  max_depth=8, n_estimators=15, random_state=30, score=0.818, total=   0.0s\n",
      "[CV] max_depth=8, n_estimators=15, random_state=30 ...................\n",
      "[CV]  max_depth=8, n_estimators=15, random_state=30, score=0.818, total=   0.0s\n",
      "[CV] max_depth=8, n_estimators=15, random_state=30 ...................\n",
      "[CV]  max_depth=8, n_estimators=15, random_state=30, score=1.000, total=   0.0s\n",
      "[CV] max_depth=9, n_estimators=3, random_state=15 ....................\n",
      "[CV]  max_depth=9, n_estimators=3, random_state=15, score=0.727, total=   0.0s\n",
      "[CV] max_depth=9, n_estimators=3, random_state=15 ....................\n",
      "[CV]  max_depth=9, n_estimators=3, random_state=15, score=0.364, total=   0.0s\n",
      "[CV] max_depth=9, n_estimators=3, random_state=15 ....................\n",
      "[CV]  max_depth=9, n_estimators=3, random_state=15, score=0.500, total=   0.0s\n",
      "[CV] max_depth=9, n_estimators=3, random_state=30 ....................\n",
      "[CV]  max_depth=9, n_estimators=3, random_state=30, score=0.455, total=   0.0s\n",
      "[CV] max_depth=9, n_estimators=3, random_state=30 ....................\n",
      "[CV]  max_depth=9, n_estimators=3, random_state=30, score=0.545, total=   0.0s\n",
      "[CV] max_depth=9, n_estimators=3, random_state=30 ....................\n",
      "[CV]  max_depth=9, n_estimators=3, random_state=30, score=0.900, total=   0.0s\n",
      "[CV] max_depth=9, n_estimators=5, random_state=15 ....................\n",
      "[CV]  max_depth=9, n_estimators=5, random_state=15, score=0.818, total=   0.0s\n",
      "[CV] max_depth=9, n_estimators=5, random_state=15 ....................\n",
      "[CV]  max_depth=9, n_estimators=5, random_state=15, score=0.455, total=   0.0s\n",
      "[CV] max_depth=9, n_estimators=5, random_state=15 ....................\n",
      "[CV]  max_depth=9, n_estimators=5, random_state=15, score=0.600, total=   0.0s\n",
      "[CV] max_depth=9, n_estimators=5, random_state=30 ....................\n",
      "[CV]  max_depth=9, n_estimators=5, random_state=30, score=0.545, total=   0.0s\n",
      "[CV] max_depth=9, n_estimators=5, random_state=30 ....................\n",
      "[CV]  max_depth=9, n_estimators=5, random_state=30, score=0.636, total=   0.0s\n",
      "[CV] max_depth=9, n_estimators=5, random_state=30 ....................\n",
      "[CV]  max_depth=9, n_estimators=5, random_state=30, score=1.000, total=   0.0s\n",
      "[CV] max_depth=9, n_estimators=10, random_state=15 ...................\n",
      "[CV]  max_depth=9, n_estimators=10, random_state=15, score=0.909, total=   0.0s\n",
      "[CV] max_depth=9, n_estimators=10, random_state=15 ...................\n",
      "[CV]  max_depth=9, n_estimators=10, random_state=15, score=0.636, total=   0.0s\n",
      "[CV] max_depth=9, n_estimators=10, random_state=15 ...................\n",
      "[CV]  max_depth=9, n_estimators=10, random_state=15, score=0.900, total=   0.0s\n",
      "[CV] max_depth=9, n_estimators=10, random_state=30 ...................\n",
      "[CV]  max_depth=9, n_estimators=10, random_state=30, score=0.818, total=   0.0s\n",
      "[CV] max_depth=9, n_estimators=10, random_state=30 ...................\n",
      "[CV]  max_depth=9, n_estimators=10, random_state=30, score=1.000, total=   0.0s\n",
      "[CV] max_depth=9, n_estimators=10, random_state=30 ...................\n",
      "[CV]  max_depth=9, n_estimators=10, random_state=30, score=1.000, total=   0.0s\n",
      "[CV] max_depth=9, n_estimators=15, random_state=15 ...................\n",
      "[CV]  max_depth=9, n_estimators=15, random_state=15, score=0.545, total=   0.0s\n",
      "[CV] max_depth=9, n_estimators=15, random_state=15 ...................\n",
      "[CV]  max_depth=9, n_estimators=15, random_state=15, score=0.727, total=   0.0s\n",
      "[CV] max_depth=9, n_estimators=15, random_state=15 ...................\n",
      "[CV]  max_depth=9, n_estimators=15, random_state=15, score=0.800, total=   0.0s\n",
      "[CV] max_depth=9, n_estimators=15, random_state=30 ...................\n",
      "[CV]  max_depth=9, n_estimators=15, random_state=30, score=0.818, total=   0.0s\n",
      "[CV] max_depth=9, n_estimators=15, random_state=30 ...................\n",
      "[CV]  max_depth=9, n_estimators=15, random_state=30, score=0.818, total=   0.0s\n",
      "[CV] max_depth=9, n_estimators=15, random_state=30 ...................\n",
      "[CV]  max_depth=9, n_estimators=15, random_state=30, score=1.000, total=   0.0s\n",
      "[CV] max_depth=10, n_estimators=3, random_state=15 ...................\n",
      "[CV]  max_depth=10, n_estimators=3, random_state=15, score=0.727, total=   0.0s\n",
      "[CV] max_depth=10, n_estimators=3, random_state=15 ...................\n",
      "[CV]  max_depth=10, n_estimators=3, random_state=15, score=0.364, total=   0.0s\n",
      "[CV] max_depth=10, n_estimators=3, random_state=15 ...................\n",
      "[CV]  max_depth=10, n_estimators=3, random_state=15, score=0.500, total=   0.0s\n",
      "[CV] max_depth=10, n_estimators=3, random_state=30 ...................\n",
      "[CV]  max_depth=10, n_estimators=3, random_state=30, score=0.455, total=   0.0s\n",
      "[CV] max_depth=10, n_estimators=3, random_state=30 ...................\n",
      "[CV]  max_depth=10, n_estimators=3, random_state=30, score=0.545, total=   0.0s\n",
      "[CV] max_depth=10, n_estimators=3, random_state=30 ...................\n",
      "[CV]  max_depth=10, n_estimators=3, random_state=30, score=0.900, total=   0.0s\n",
      "[CV] max_depth=10, n_estimators=5, random_state=15 ...................\n",
      "[CV]  max_depth=10, n_estimators=5, random_state=15, score=0.818, total=   0.0s\n",
      "[CV] max_depth=10, n_estimators=5, random_state=15 ...................\n",
      "[CV]  max_depth=10, n_estimators=5, random_state=15, score=0.455, total=   0.0s\n",
      "[CV] max_depth=10, n_estimators=5, random_state=15 ...................\n",
      "[CV]  max_depth=10, n_estimators=5, random_state=15, score=0.600, total=   0.0s\n",
      "[CV] max_depth=10, n_estimators=5, random_state=30 ...................\n",
      "[CV]  max_depth=10, n_estimators=5, random_state=30, score=0.545, total=   0.0s\n",
      "[CV] max_depth=10, n_estimators=5, random_state=30 ...................\n",
      "[CV]  max_depth=10, n_estimators=5, random_state=30, score=0.636, total=   0.0s\n",
      "[CV] max_depth=10, n_estimators=5, random_state=30 ...................\n",
      "[CV]  max_depth=10, n_estimators=5, random_state=30, score=1.000, total=   0.0s\n",
      "[CV] max_depth=10, n_estimators=10, random_state=15 ..................\n",
      "[CV]  max_depth=10, n_estimators=10, random_state=15, score=0.909, total=   0.0s\n",
      "[CV] max_depth=10, n_estimators=10, random_state=15 ..................\n",
      "[CV]  max_depth=10, n_estimators=10, random_state=15, score=0.636, total=   0.0s\n",
      "[CV] max_depth=10, n_estimators=10, random_state=15 ..................\n",
      "[CV]  max_depth=10, n_estimators=10, random_state=15, score=0.900, total=   0.0s\n",
      "[CV] max_depth=10, n_estimators=10, random_state=30 ..................\n",
      "[CV]  max_depth=10, n_estimators=10, random_state=30, score=0.818, total=   0.0s\n",
      "[CV] max_depth=10, n_estimators=10, random_state=30 ..................\n",
      "[CV]  max_depth=10, n_estimators=10, random_state=30, score=1.000, total=   0.0s\n",
      "[CV] max_depth=10, n_estimators=10, random_state=30 ..................\n",
      "[CV]  max_depth=10, n_estimators=10, random_state=30, score=1.000, total=   0.0s\n",
      "[CV] max_depth=10, n_estimators=15, random_state=15 ..................\n",
      "[CV]  max_depth=10, n_estimators=15, random_state=15, score=0.545, total=   0.0s\n",
      "[CV] max_depth=10, n_estimators=15, random_state=15 ..................\n",
      "[CV]  max_depth=10, n_estimators=15, random_state=15, score=0.727, total=   0.0s\n",
      "[CV] max_depth=10, n_estimators=15, random_state=15 ..................\n",
      "[CV]  max_depth=10, n_estimators=15, random_state=15, score=0.800, total=   0.0s\n",
      "[CV] max_depth=10, n_estimators=15, random_state=30 ..................\n",
      "[CV]  max_depth=10, n_estimators=15, random_state=30, score=0.818, total=   0.0s\n",
      "[CV] max_depth=10, n_estimators=15, random_state=30 ..................\n",
      "[CV]  max_depth=10, n_estimators=15, random_state=30, score=0.818, total=   0.0s\n",
      "[CV] max_depth=10, n_estimators=15, random_state=30 ..................\n"
     ]
    },
    {
     "name": "stdout",
     "output_type": "stream",
     "text": [
      "[CV]  max_depth=10, n_estimators=15, random_state=30, score=1.000, total=   0.0s\n"
     ]
    },
    {
     "name": "stderr",
     "output_type": "stream",
     "text": [
      "[Parallel(n_jobs=1)]: Done 144 out of 144 | elapsed:    1.6s finished\n"
     ]
    },
    {
     "data": {
      "text/plain": [
       "GridSearchCV(cv=3, estimator=RandomForestClassifier(),\n",
       "             param_grid={'max_depth': [2, 4, 7, 8, 9, 10],\n",
       "                         'n_estimators': [3, 5, 10, 15],\n",
       "                         'random_state': [15, 30]},\n",
       "             verbose=3)"
      ]
     },
     "execution_count": 143,
     "metadata": {},
     "output_type": "execute_result"
    }
   ],
   "source": [
    "from sklearn.ensemble import RandomForestClassifier\n",
    "from sklearn.model_selection import GridSearchCV, train_test_split\n",
    "classification = RandomForestClassifier()\n",
    "parameters = {\n",
    "    \"max_depth\":[2, 4, 7, 8, 9, 10],\n",
    "    \"n_estimators\":[3, 5, 10, 15],\n",
    "    \"random_state\": [15, 30]\n",
    "}\n",
    "\n",
    "cv = GridSearchCV(classification, parameters, cv=3, verbose=3)\n",
    "cv.fit(X_train,Y_train)"
   ]
  },
  {
   "cell_type": "code",
   "execution_count": 145,
   "metadata": {},
   "outputs": [
    {
     "name": "stdout",
     "output_type": "stream",
     "text": [
      "<bound method ClassifierMixin.score of RandomForestClassifier(max_depth=7, n_estimators=10, random_state=30)>\n",
      "Effectiveness of the Random Forest Classifier\n",
      "MAE 0.0390625\n",
      "RMSE 0.19764235376052372\n",
      "R2 0.8435972629521017\n"
     ]
    }
   ],
   "source": [
    "print(cv.best_estimator_.score)\n",
    "y_pred, Y_test = modelEffectivenessCheck(RandomForestClassifier(max_depth=7, n_estimators=10, random_state=30))"
   ]
  },
  {
   "cell_type": "code",
   "execution_count": 146,
   "metadata": {},
   "outputs": [],
   "source": [
    "Y_testSeries = pd.Series(np.array(Y_test),name='isWinner')"
   ]
  },
  {
   "cell_type": "code",
   "execution_count": 147,
   "metadata": {},
   "outputs": [
    {
     "data": {
      "text/html": [
       "<div>\n",
       "<style scoped>\n",
       "    .dataframe tbody tr th:only-of-type {\n",
       "        vertical-align: middle;\n",
       "    }\n",
       "\n",
       "    .dataframe tbody tr th {\n",
       "        vertical-align: top;\n",
       "    }\n",
       "\n",
       "    .dataframe thead th {\n",
       "        text-align: right;\n",
       "    }\n",
       "</style>\n",
       "<table border=\"1\" class=\"dataframe\">\n",
       "  <thead>\n",
       "    <tr style=\"text-align: right;\">\n",
       "      <th></th>\n",
       "      <th>isWinner</th>\n",
       "      <th>Predicted Class</th>\n",
       "    </tr>\n",
       "  </thead>\n",
       "  <tbody>\n",
       "    <tr>\n",
       "      <th>0</th>\n",
       "      <td>1</td>\n",
       "      <td>1</td>\n",
       "    </tr>\n",
       "    <tr>\n",
       "      <th>1</th>\n",
       "      <td>1</td>\n",
       "      <td>1</td>\n",
       "    </tr>\n",
       "    <tr>\n",
       "      <th>2</th>\n",
       "      <td>1</td>\n",
       "      <td>1</td>\n",
       "    </tr>\n",
       "    <tr>\n",
       "      <th>3</th>\n",
       "      <td>0</td>\n",
       "      <td>0</td>\n",
       "    </tr>\n",
       "    <tr>\n",
       "      <th>4</th>\n",
       "      <td>0</td>\n",
       "      <td>0</td>\n",
       "    </tr>\n",
       "    <tr>\n",
       "      <th>...</th>\n",
       "      <td>...</td>\n",
       "      <td>...</td>\n",
       "    </tr>\n",
       "    <tr>\n",
       "      <th>123</th>\n",
       "      <td>1</td>\n",
       "      <td>1</td>\n",
       "    </tr>\n",
       "    <tr>\n",
       "      <th>124</th>\n",
       "      <td>1</td>\n",
       "      <td>1</td>\n",
       "    </tr>\n",
       "    <tr>\n",
       "      <th>125</th>\n",
       "      <td>0</td>\n",
       "      <td>0</td>\n",
       "    </tr>\n",
       "    <tr>\n",
       "      <th>126</th>\n",
       "      <td>1</td>\n",
       "      <td>1</td>\n",
       "    </tr>\n",
       "    <tr>\n",
       "      <th>127</th>\n",
       "      <td>0</td>\n",
       "      <td>0</td>\n",
       "    </tr>\n",
       "  </tbody>\n",
       "</table>\n",
       "<p>128 rows × 2 columns</p>\n",
       "</div>"
      ],
      "text/plain": [
       "     isWinner  Predicted Class\n",
       "0           1                1\n",
       "1           1                1\n",
       "2           1                1\n",
       "3           0                0\n",
       "4           0                0\n",
       "..        ...              ...\n",
       "123         1                1\n",
       "124         1                1\n",
       "125         0                0\n",
       "126         1                1\n",
       "127         0                0\n",
       "\n",
       "[128 rows x 2 columns]"
      ]
     },
     "execution_count": 147,
     "metadata": {},
     "output_type": "execute_result"
    }
   ],
   "source": [
    "predictions = pd.concat([Y_testSeries,pd.Series(y_pred,name='Predicted Class')], axis=1)\n",
    "predictions"
   ]
  },
  {
   "cell_type": "code",
   "execution_count": 148,
   "metadata": {},
   "outputs": [
    {
     "name": "stdout",
     "output_type": "stream",
     "text": [
      "Accuracy on test data is 0.96\n"
     ]
    }
   ],
   "source": [
    "from sklearn.metrics import accuracy_score\n",
    "print('Accuracy on test data is %.2f' % (accuracy_score(Y_test, y_pred)))"
   ]
  },
  {
   "cell_type": "markdown",
   "metadata": {},
   "source": [
    "Working with K-Nearest neighbor classifier"
   ]
  },
  {
   "cell_type": "code",
   "execution_count": 149,
   "metadata": {},
   "outputs": [
    {
     "data": {
      "text/plain": [
       "Text(0, 0.5, 'Accuracy')"
      ]
     },
     "execution_count": 149,
     "metadata": {},
     "output_type": "execute_result"
    },
    {
     "data": {
      "image/png": "[encoded data removed]",
      "text/plain": [
       "<Figure size 432x288 with 1 Axes>"
      ]
     },
     "metadata": {
      "needs_background": "light"
     },
     "output_type": "display_data"
    }
   ],
   "source": [
    "from sklearn.neighbors import KNeighborsClassifier\n",
    "import matplotlib.pyplot as plt\n",
    "%matplotlib inline\n",
    "\n",
    "numNeighbors = [1, 5, 10, 15, 20, 25, 30]\n",
    "trainAcc = []\n",
    "testAcc = []\n",
    "\n",
    "for k in numNeighbors:\n",
    "    clf = KNeighborsClassifier(n_neighbors=k, metric='minkowski', p=2)\n",
    "    clf.fit(X_train, Y_train)\n",
    "    Y_predTrain = clf.predict(X_train)\n",
    "    Y_predTest = clf.predict(X_test)\n",
    "    trainAcc.append(accuracy_score(Y_train, Y_predTrain))\n",
    "    testAcc.append(accuracy_score(Y_test, Y_predTest))\n",
    "\n",
    "plt.plot(numNeighbors, trainAcc, 'ro-', numNeighbors, testAcc,'bv--')\n",
    "plt.legend(['Training Accuracy','Test Accuracy'])\n",
    "plt.xlabel('Number of neighbors')\n",
    "plt.ylabel('Accuracy')"
   ]
  }
 ],
 "metadata": {
  "kernelspec": {
   "display_name": "Python 3",
   "language": "python",
   "name": "python3"
  },
  "language_info": {
   "codemirror_mode": {
    "name": "ipython",
    "version": 3
   },
   "file_extension": ".py",
   "mimetype": "text/x-python",
   "name": "python",
   "nbconvert_exporter": "python",
   "pygments_lexer": "ipython3",
   "version": "3.8.5"
  }
 },
 "nbformat": 4,
 "nbformat_minor": 4
}
